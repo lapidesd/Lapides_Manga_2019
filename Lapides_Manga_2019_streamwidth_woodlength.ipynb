{
 "cells": [
  {
   "cell_type": "code",
   "execution_count": 6,
   "metadata": {},
   "outputs": [],
   "source": [
    "stream_data = {}\n",
    "stream_data['Big Springs, ID'] = {'GPS': [44.4989168,-111.25711], 'stream_width' : [57.5,59.22,53.91,73.13,52.19,42.41,69.16,53.01,55.01,68.80], 'wood_length' : [11.88,16.31,15.27,19.00,17.02,7.13,9.45,10.59,12.63,10.40,8.18,9.85,16.08,10.33,11.65,14.28], 'discharge' : 6.19, 'info_source' : 'Whiting and Moog', 'elevation' : 1947, 'temp':34.4, 'MAP': 22.84,'snow':64.4}\n",
    "stream_data['Buffalo River, ID'] = {'GPS': [44.438437,-111.260012], 'stream_width': [11.25,13.07,14.28,14.12,12.61,17.43,15.30,16.21,13.44], 'wood_length': [9.37,18.22,11.56,8.93,10.35,10.56,5.19,10.93,19.67,9.07], 'discharge': 0.21, 'info_source' : 'Whiting and Moog', 'elevation': 1938,'temp':34.4, 'MAP': 22.84,'snow':64.4}\n",
    "stream_data['Chick Creek, ID'] = {'GPS': [44.4259736,-111.2148], 'stream_width' : [6.73, 7.58, 2.73, 5.5, 3.21, 3.89, 2.45, 5.98, 2.66, 4.19], 'wood_length':[12,12,11,9,13,8, 7, 13, 17, 10], 'discharge': 1.08, 'info_source': 'Whiting and Moog', 'elevation': 1935,'temp':34.4, 'MAP': 22.84,'snow':64.4}\n",
    "stream_data['Deschutes River, OR'] = {'GPS':[43.8891385, -121.76172], 'stream_width': [39.55, 35.8, 19.17, 27.29, 13.21, 15.38, 16.82, 13.72, 14.01, 19.09], 'wood_length':[16.07,24.53, 17.06, 19.5, 25.7, 20.67, 18.56, 15.3, 19.39, 20.64], 'discharge': 5.68, 'info_source':'Hygelund', 'elevation': 1387,'temp': 46.6, 'MAP':11.36,'snow':22.5}\n",
    "stream_data['Elk Springs Creek, ID'] = {'GPS':[44.494684,-111.401091], 'stream_width': [1.87,1.33,1.93,1.14,1.51,1.22,1.53,1.58,1.58,0.51], 'wood_length':[13.61,2.73,8.60,5.64,7.00,5.20,7.49,5.42,6.50,5.43],'discharge':0.024, 'info_source':'Whiting and Moog', 'elevation': 1977,'temp':34.4, 'MAP': 22.84,'snow':64.4}\n",
    "stream_data['Lucky Dog Creek B, ID'] = {'GPS':[44.4882197,-111.29158], 'stream_width': [7,6,7,6,8,6,7,7,7,8], 'wood_length':[15.19,9.99,9.27,9.79,11.57,12.73,10.99,15.06,6.19,10.4,18.05,16.04,14.40,14.65], 'discharge': 1.35, 'info_source':'Whiting and Moog', 'elevation':1947,'temp':34.4, 'MAP': 22.84,'snow':64.4}\n",
    "stream_data['Lucky Dog Creek A, ID'] = {'GPS':[44.485912,-111.26705], 'stream_width': [6.69,7.83,7.81,6.82,7.25,6.9,6.55,6.4, 8.14, 7.51], 'wood_length':[5.81,13.24,8.81,14.59,11.45,9.05,12.63, 12.42,12.78, 10.65], 'discharge': 0.92, 'info_source':'Whiting and Moog', 'elevation':1951,'temp':34.4, 'MAP': 22.84,'snow':64.4}\n",
    "stream_data['Reservation Spring, OR'] = {'GPS':[42.6998409,-121.96478],'stream_width':[17.06,16.49,17.64,18.4,17.56,24.74,24.94,21.33,17.57,17.02,23.74],'wood_length':[28.93,27.28,26.91,19.26,16.55,24.25,14.45,12.51,20.32,17.26,19.60,26.13,27.16,30.16],'discharge':1.73, 'elevation':1274, 'info_source':'Whiting and Moog', 'temp': 50.4, 'MAP': 48.32, 'snow':25.6}\n",
    "stream_data['Snow Creek, OR'] = {'GPS':[43.8734709,-121.7691],'stream_width':[12.58,17.63,16.69, 18.31,14.46,10.59,14.83,15.82,21.86,20],'wood_length':[13.77,13.58,17.68,14.91,9.65,14.1,16.17,14.06,13.45,13.04],'discharge':1.99, 'elevation':1274, 'info_source':'Whiting and Moog', 'temp': 46.6, 'MAP':11.36,'snow':22.5}\n",
    "stream_data['Toms Creek A, ID'] = {'GPS':[44.416471,-111.293393],'stream_width':[5.04,3.93,4.38,4.50,4.47,5.19,3.97,2.91,4.12,4.07],'wood_length':[6.70,5.42,14.10,7.90,10.29,10.90,12.72,7.80,15.33,6.25],'discharge':0.2,'elevation':1932, 'info_source': 'Whiting and Moog','temp':34.4, 'MAP': 22.84,'snow':64.4}\n",
    "stream_data['Toms Creek D, ID'] = {'GPS':[44.4013683,-111.36421],'stream_width':[7.25,5.79,5.07,6.86,3.94,7.55,4.81,7.47,7.8,5.85], 'wood_length':[11.64,9.69,7.99,9.45,6.25,7.63,10.96,10.41,9.13,6.57],'discharge':1.18, 'elevation':1914,'info_source':'Whiting and Moog','temp':34.4, 'MAP': 22.84,'snow':64.4}\n",
    "stream_data['Cultus River, OR'] = {'elevation':1357,'GPS':[43.888005,-121.762159],'stream_width':[29.7, 30.33, 26.65, 32.06, 29.24, 27.30, 27.63,27.23, 36.43, 33.21],'wood_length':[19.80,16.53,18.89,20.87,17.01,25.52,19.31,10.61,14.29,21.10,21.55,17.28,14.55,17.46,9.01,13.70,18.49,20.82], 'discharge':1.8,'info_source':'USGS','temp': 46.6, 'MAP':11.36,'snow':22.5}\n",
    "stream_data['Browns Creek, OR']= {'GPS':[43.722121, -121.803724],'stream_width': [14.88,12.98,19.56,13.32,16.47,17.74,16.62,14.35,14,13.6],'wood_length':[11.45,13.36,15.03,14.53,24.24,15.40,17.65,14.37,16.85,16.69],'discharge':0.065,'elevation':1334,'info_source':'Whiting and Moog', 'temp': 46.6, 'MAP':11.36,'snow':22.5}\n",
    "stream_data['Mill Creek, ID'] = {'GPS':[ 44.463109,-111.429669],'elevation':1939, 'stream_width':[1.42,2.38,2.77,1.97,3.59,2.98,4.02,2.97,3.00,2.31],'wood_length':[7.95,7.9,5.41,6.03,8.74,6.66,6.44,6.83,6.56,9.44],'discharge':0.19, 'info_source':'Whiting and Moog','temp':34.4, 'MAP': 22.84,'snow':64.4}\n",
    "stream_data['Tyler Creek,ID'] = {'GPS':[44.509727,-111.397735],'elevation':2051,'stream_width':[1.32,1.47,1.05,.95,.83,.77,.91,1.7,1.63,1.39],'wood_length':[5.1,8.36,8.76,10.1,8.9,7.26,5.98,10.64,5.67,9.79], 'discharge':0.12,'info_source':'Whiting and Moog','temp':34.4, 'MAP': 22.84,'snow':64.4}\n",
    "stream_data['Billingsley Creek, ID']={'nowood':True,'GPS':[42.819761,-114.870646],'elevation':913,'stream_width':[9.16,11.78,9.12,11.22,13.98,11.85,10.77,13.00,10.35,11.48],'temp':47.8,'MAP':11.12,'snow':27.2}\n",
    "stream_data['Blue Springs, OR']={'GPS':[42.695795,-122.071733], 'info_source':'Whiting and Moog','elevation':1273,'stream_width':[3.07,4.42,2.91,4.00,5.64,3.20,5.34,3.51,3.24,7.23],'wood_length':[6.08,5.97,7.00,3.03,4.57,7.36,8.49,7.92,4.57,7.52],'discharge':0.089, 'temp':45.25, 'temp': 50.4, 'MAP': 48.32, 'snow':25.6}\n",
    "stream_data['Spring Creek A, OR']={'GPS':[42.670335,-121.885918],'elevation':1281, 'info_source':'Whiting and Moog', 'discharge':1.99, 'stream_width':[31.64,31.68,25.50,24.35,24.39,26.10,48.99,56.73,51.98,39.68],'wood_length':[22.55,20.90,20.95,14.18,14.35,20.49,14.97,14.79,21.84,14.71], 'temp': 50.4, 'MAP': 48.32, 'snow':25.6}\n",
    "stream_data['Spring Creek B, OR']={'GPS':[42.654133,-121.880427],'elevation':1282, 'info_source':'Whiting and Moog','discharge':7.71, 'stream_width':[44.07,45.95,38.53,49.10,39.13,36.10,37.38,41.05,40.98,42.23],'wood_length':[19.01,19.58,19.20,18.26,19.99,14.41,13.78,17.31,13.51,13.36], 'temp': 50.4, 'MAP': 48.32, 'snow':25.6}\n",
    "stream_data['Fall River, OR']={'GPS':[43.793665,-121.524160],'elevation':1276,'info_source':'Hygelund','discharge':4.39,'stream_width':[14.79,11.35,12.66,10.43,12.25,8.28,26.82,13.46,14.83,29.21],'wood_length':[18.93,17.15,13.12,15.68,13.73,13.66,13.11,20.57,12.71,14.21,16.85,10.91,15.05,23.33,14.45,15.34,22.98,18.43],'temp': 46.6, 'MAP':11.36,'snow':22.5}\n",
    "stream_data['Black Sands Creek, MT'] = {'GPS' : [44.660166,-111.161905],'elevation':2023,'info_source':'Whiting and Moog','discharge':0.7, 'stream_width':[33.28,35.87,40.24,34.66,26.59,21.49,17.22,22.51,28.56,19.26],'wood_length':[17.13,14.51,14.55,14.06,18.82,17.78,13.19,16.36], 'temp':34.4, 'MAP': 22.84,'snow':64.4}\n",
    "stream_data['Hat Creek, CA']={'discharge':3.48,'info_source':'USGS','GPS':[40.849005,-121.523958],'elevation':999,'stream_width':[6.63,6.30,7.9,5.53,7.79,8.84,8.75,8.47,6.01,10.42],'wood_length':[7.79,8.63,8.83,4.28,5.26,5.99,9.69,8.32,6.29,7.86],'temp':50.8,'MAP':63.59,'snow':5.2}\n",
    "stream_data['McCloud River,CA']={'discharge':2.19,'info_source':'https://wdr.water.usgs.gov/wy2013/pdfs/11368000.2013.pdf','GPS':[41.029945,-122.214674],'elevation':498,'stream_width':[21.62,10.87,22.70,18.10,22.07,20.71,16.34,16.06,22.18,21.90],'wood_length':[8.05,10.95,10.41,8.20,6.33,10.01,9.77,13.09,13.37,11.22], 'temp':50.8, 'MAP':49.22, 'snow':49.5}\n",
    "stream_data['Lost Creek, CA']={'nowood':True,'GPS':[39.570025,-121.165341],'elevation':886,'stream_width':[8.36,7.14,9.2,7.65,10.85,11.64,7.92,8.84,7.38,8.33],'wood_length':[4.17,6.18,16.57,11.68,9.12,8.60,10.03,7.05,10.45,5.10],'temp':53.3, 'MAP':65.24,'snow':31.4}\n",
    "stream_data['Big Springs Creek, CA']={'discharge':1.7,'info_source':'https://www.waterboards.ca.gov/northcoast/water_issues/programs/tmdls/shasta_river/060707/23appendixgtechnicalmemorandum-bigspringscreekandspringcomplexflow.pdf','nowood':True,'GPS':[41.601151,-122.426501],'elevation':789,'stream_width':[50.32,38.98,31.07,43.32,33.54,35.07,25.06,48.62,46.91,29.94], 'temp':50.8, 'MAP':49.22, 'snow':49.5}\n",
    "stream_data['Unnamed Spring 1, AZ']={'temp':62.4,'snow':33.5,'MAP':32.07,'GPS':[34.47111,-111.287611],'nowood':True,'elevation':2207,'discharge':0.000126,'avg_str_wid':0.40,'info_source':'AZ'}\n",
    "stream_data['Whisting Spring, AZ']={'temp':62.4,'snow':33.5,'MAP':32.07,'GPS':[34.448444,-111.190278],'nowood':True,'elevation':2289,'discharge':0.0000473, 'avg_str_wid':0.29,'info_source':'AZ'}\n",
    "stream_data['Unnamed Spring 2, AZ']={'temp':62.4,'snow':33.5,'MAP':32.07,'GPS':[34.433778,-111.160972],'nowood':True,'elevation':2313,'discharge': 0.0000789,'avg_str_wid':0.16,'info_source':'AZ'}\n",
    "stream_data['Unnamed Spring 3, AZ']={'temp':62.4,'snow':33.5,'MAP':32.07,'GPS':[34.435278,-111.160361],'nowood':True,'elevation':2313, 'discharge': 0.0000158, 'avg_str_wid':0.22, 'info_source': 'AZ'}\n",
    "stream_data['West Pinchot Spring, AZ']={'temp':62.4,'snow':33.5,'MAP':32.07,'GPS':[34.502278,-111.196472],'nowood':True,'elevation':2146,'discharge': 0.0000473,'avg_str_wid':0.29, 'info_source':'AZ'}\n",
    "stream_data['Big Springs, MO'] = {'nowood':True, 'stream_width':[78.18,64.68,56.74,100.08,83.71,105.86,121.24,88.67,91.86,89.2],'elevation':131, 'GPS':[36.95,-90.99],'discharge':13,'info_source':'https://waterdata.usgs.gov/mo/nwis/annual/?referred_module=sw&site_no=07067500&por_07067500_2=834907,00060,2,1922,2011&start_dt=1981&end_dt=2009&year_type=C&format=html_table&date_format=YYYY-MM-DD&rdb_compression=file&submitted_form=parameter_selection_list','temp':58.3,'MAP':47.97,'snow':5.1}\n",
    "stream_data['Maramec Springs, MO'] = {'nowood':True, 'discharge':0.044,'info_source':'maramecspringpark.com','elevation':239,'stream_width':[21.39,21.47,19.38,21.60,27.95,21.32,24.61,24.61,22.82,15.93],'GPS':[37.95,-91.53],'temp':36.7,'MAP':18.65,'snow':5.1}\n",
    "stream_data['Silver Creek, ID'] = {'nowood':True,'GPS':[43.323361,-114.10835],'elevation':1478,'stream_width':[18.6,20.38,18.63,22.27,20.14,20.06,20.24,22.04,24.92,21.73],'discharge':4.0,'info_source':'https://nwis.waterdata.usgs.gov/nwis/wys_rpt?dv_ts_ids=45797&wys_water_yr=2017&site_no=13150430&agency_cd=USGS&adr_water_years=2006%2C2007%2C2008%2C2009%2C2010%2C2011%2C2012%2C2013%2C2014%2C2015%2C2016%2C2017&referred_module=','temp':47.8,'MAP':11.12,'snow':27.2}\n",
    "stream_data['Crystal Castle Cr C, OR'] = {'runoff':True, 'info_source':'Whiting and Moog','avg_str_wid':0.96,'discharge':0.0491}\n",
    "stream_data['Deer Creek, OR'] = {'runoff':True,'info_source':'Whiting and Moog','avg_str_wid':3.94,'discharge':0.463}\n",
    "stream_data['Cultus Creek, OR']={'runoff':True,'stream_width':[9.6,9.2,13.2,6.9,4.6,6.0,3.9,5.0,6.6,4.4],'wood_length':[26,17.5,11.5,12.9,14.5,15,15,13,24,15],'GPS':[43.822703,-121.827700],'elevation':1399,'discharge':1.73}\n",
    "stream_data['Moose Creek, ID'] = {'runoff':True,'info_source':'Whiting and Moog','avg_str_wid':3.16,'discharge':0.658}"
   ]
  },
  {
   "cell_type": "code",
   "execution_count": null,
   "metadata": {},
   "outputs": [],
   "source": [
    "stream_data['Big Springs, ID']['wood_hist_bank'] = [20,30,10,20,55,55,60,20,22,55,60,90,45,80,80,50,50,40,40,85,50,90,30,50,80,70,70,80,80,60,5,60,40,40,60,80,80,15,50,50,40,40,68,65, 50,60,40,20,45,45,45,40,55,45,75,75,80,45,45,90,60,60,0,0,60,80,80,35,60,45,65,50,85,65,27,60,60,38,80,86,80,40,50,0]\n",
    "stream_data['Big Springs, ID']['wood_hist_free'] = [80,40,78,86,43,20,74,60,25,85,20,22,60,60,60,80,30,20,20,5,80, 15, 70, 30,90,65,7]\n",
    "stream_data['Buffalo River, ID']['wood_hist_free'] = [2,18,15,0,40,65,45,7,0,75,45,0,25,5,45,90,35,70,15,50,0,20,35,0,5,28,26,0,22,35,13,60,60,60,60,75,40,0,7,35,28,10,40,45,40,50,5,35,20,15,75,75,50,35,15,20,20,30,7]\n",
    "stream_data['Buffalo River, ID']['wood_hist_bank'] = [80,45,80,50,50,50,75,45,30,40,80,60,55,90,90,70,70,90,90,90,30,40,60,85,67,40,90,70,90,60,60,60,90,80,58,90,40,86,65,30,60,90,90,30,27,46,45,26,23,45,45,50,82,40,37,10,90,90,90,90,60,40,40,55,80,80,80,45,80,60,90,50,50,80,90,85,45,90,60,60,40,40,40,60,80,80,90,30,50,75,40,35,90,90,47,82,90,60,60,60,55,90,85,40]\n",
    "stream_data['Chick Creek, ID']['wood_hist_free'] = []\n",
    "stream_data['Chick Creek, ID']['wood_hist_bank'] = [80,80,20,3,40,0,60,60,65,25,30,85,70,80,80,48,50,5,5,45,80,0,0,70,50,30,30,5,45, 40,40,50,50,70,80,0,70,70,50,60,50,60,70,70,40,30,90,0,60,0,0,80,0,70,55,0,40,45,40,40,50,70,30,5,40,70,70,70,50,60,44,80,0,45,80,80,80,60,60,5,30,25,30,75,45,70,40,40,30,45,40,0,45,42,30,35,60,50,35,60,47,70,50,0,30,75,30,35,68,10]\n",
    "stream_data['Deschutes River, OR']['wood_hist_free'] = [77,45,72,15,5,10,20,35,40,22,45,7,10,25,15,10,0,10,10]\n",
    "stream_data['Deschutes River, OR']['wood_hist_bank'] = [40,65,70,80,70,90,60,70,70,45,55,60,80,80,20,20,80,45,70,60,40,80,65,60,8,50,70,60,60,60,80,60,90,60,70,70,70,70,70,70,70,40,40,30,60,35,25,80,55,80,87,70,87,60,60,50,90,90,60,70,80,70,70,50,40,90,45,50,75,55,90,80,80,60,65,70,80,80,70,80,55,20,70,20,90]\n",
    "stream_data['Lucky Dog Creek B, ID']['wood_hist_free'] = [25,17,30,30,30,30,10,7,22,20,30,5]\n",
    "stream_data['Lucky Dog Creek B, ID']['wood_hist_bank'] = [70,50,80,40,30,40,20,90,80,70,25,65,40,85,85,40,15,85,60,13,80,35,80,80,35,68,80,20,15,30,83,30,45,50,15,45,45,65,35,70,70,50,55,50,85,75,60,23,50,45,45,70,70,80,15,90,0,80,45,70,50,45,40,80,60,60,60,80,0,40,30,80,15,50,90,90,55,55,70,70,40,80,45,25,80,70,30,80,50,50,80,55,65,85,25,60,0,60,90,90,90,85,80]\n",
    "stream_data['Reservation Spring, OR']['wood_hist_free'] = [7,55,15,60,72,7,0,30,50,7]\n",
    "stream_data['Reservation Spring, OR']['wood_hist_bank'] = [55,67,40,40,20,75,73,0,85,50,70,90,0,60,25,8,27,45,50,12,52,50,43,80,60,45,50,50,35,25,40,40,40,80,25,50,85,45,60,60,5,30,30,55,80,30,80,90,50,80,80,63,86,60,45,70,55,80,60,80,70,50,80,35,50,75,85,80,75,38,80,80,80,75,83,65,85,80,80,53,70,50,78,40,80]\n",
    "stream_data['Snow Creek, OR']['wood_hist_free'] = [0,15]\n",
    "stream_data['Snow Creek, OR']['wood_hist_bank'] = [20,47,30,55,50,45,40,40,20,70,55,90,90,70,30,50,20,35,80,60,90,40,50,70,40,30,65,12,50,70,65,65,30,40,70,55,35,90,40,65,80,63,45,60,90,30,50,45,55,30,55,45,55,50,78,40,50,80,70,80,70,30,55,35,50,90,80,80,72,75,90,40,70,80,50,70,75,90,90,65,90,50,35,80]\n",
    "stream_data['Toms Creek A, ID']['wood_hist_free'] = [18,66,30,35,18,10,6,90,80,8,40,15,30,15,60,70,50,40,25,15,47,12,5,12,50,0,80]\n",
    "stream_data['Toms Creek A, ID']['wood_hist_bank'] = [17,50,45,70,20,50,15,60,40,90,30,30,75,15,15,30,60,40,85,50,45,50,60,85,30,45,60,80,65,75,75,60,20,20,30,10,30,35,75,50,60,30,25,30,20,90,90,70,80,40,40,80,50,35,40,50,20,75,85,70,30,30,55,40,55,45,60,30,60,17,50,40,60,75,65,70,30,65,70,40,20,50,12,30,58,60,90,40,50,70,30,25,30,75,38,42,25,15,85,75,35,50]\n",
    "stream_data['Blue Springs, OR']['wood_hist_free'] = [35,35,5,65,75,40,45,50,80,40,22,25,55,15,70,35,0,20,10,7,0,7,7,40,60,40,30,40,50,0,30,10,30,70,0,0,85,85,70,15]\n",
    "stream_data['Blue Springs, OR']['wood_hist_bank'] = [70,75,25,47,70,20,60,60,60,65,75,70,75,10,70,45,65,10,40,70,75,40,60,55,40,80,60,85,30,60,70,35,80,22,50,50,60,30,50,30,70,50,40,70,75,60,70,90,90,80,40,40,65,60,80,40,60,15,0,70,40,52,50,55,85,30,0,50,80,60,60,50,45,80,90,45,85,55,40,30,73,85,60,80,85,90,70,20,80,20,35,10,55,50,35,50,85,75,50]\n",
    "stream_data['Spring Creek A, OR']['wood_hist_free'] = [8,75,85,45,35]\n",
    "stream_data['Spring Creek A, OR']['wood_hist_bank'] = [85,90,40,45,90,40,70,28,40,90,90,60,80,60,65,65,50,80,90,90,75,85,85,40,90,90,80,65,60,45,45,40,80,50,80,50,50,70,50,75,85,70,70,80,50,90,90,80,50,50,70,60,80,85,20,20,80,35,75,30,80,70,70,55,85,70,55,55,40,80,20,50,55,60,35,90,90,0,90,50,90,45,85,60,30,70,80,80,80,30,50,60,30,90,70,60,65,65,70,65,70,70,70,80,65]\n",
    "stream_data['Fall River, OR']['wood_hist_free'] = [65,0,20,20,5,10,10,30,30,40]\n",
    "stream_data['Fall River, OR']['wood_hist_bank'] = [80,40,40,50,25,37,55,90,67,45,90,40,20,60,70,75,60,25,5,90,0,55,50,90,60,70,50,90,70,60,50,25,0,80,30,60,70,40,85,68,90,90,90,25,60,20,60,50,60,30,35,40,55,70,40,40,40,40,70,60,30,15,40,55,70,60,65,55,35,90,60,70,30,25,85,90,35,60,70,65,65,60,80,15,50,70,25,80,80,80,40,68,68,70,35,75,60,60,7,65,80,17,25,65,75,85,15]\n",
    "stream_data['Black Sands Creek, MT']['wood_hist_free'] = [30,70,25,40,20]\n",
    "stream_data['Black Sands Creek, MT']['wood_hist_bank'] = [85,20,40,50,90,90,90,40,45,80,45,55,70,60,90,50,60,90,50,70,50,80,90,50,30,85,70,30,80,5,80,65,60,80,90,75,50,90,75,80,30,50,90,65,75,80,35,90,80,65,80,75,80,45,30,35,60,55,40,55,30,50,30,90,90,60,30,47,90,60,60,75,60,45,55,80,20,60,45,45,20,60,35,70,50,30,35,50,0,35,10,40,50,30,65,75,90,50]\n",
    "stream_data['Cultus Creek, OR']['wood_hist_bank']=[]\n",
    "stream_data['Cultus Creek, OR']['wood_hist_free']=[3,0,0,35,55,43,50,30,5,80,27,28,8,50,90,40,0,45,5,90,45,90,40,90,6,0,90,90,0,0,90,90,90,70,5,45,85,0,40,43,45,0,0,45,82,60,58,15,40,50,33,0,10,50,10,15,30,70,20,0,20,34,25,40,0,50,50,50,65,18,90,50,50,33,50,4,40,60,75,28,54,50,0,0,70,80,0,0,80,80,75,70,50,65,0,45,90,50,90,90]\n",
    "stream_data['Cultus River, OR']['wood_hist_bank']=[]\n",
    "stream_data['Cultus River, OR']['wood_hist_free']=[73,85,77,75,75,55,35,60,90,74,78,75,70,60,60,55,63,85,50,40,40,90,80,18,44,35,63,70,67,67,67,70,70,70,25,25,40,80,87,87,80,20,60,70,90,90,90,50,87,30,75,80,40,10,15,55,50,55,15,48,85,55,10,10,15,80,80,30,65,72,55,68,48,58,70,53,60,80,69,55,55,60,65,70,90,90,5,68,85,55,55,75,45,55,90,30,75,90,90,90]"
   ]
  }
 ],
 "metadata": {
  "kernelspec": {
   "display_name": "Python 3",
   "language": "python",
   "name": "python3"
  },
  "language_info": {
   "codemirror_mode": {
    "name": "ipython",
    "version": 3
   },
   "file_extension": ".py",
   "mimetype": "text/x-python",
   "name": "python",
   "nbconvert_exporter": "python",
   "pygments_lexer": "ipython3",
   "version": "3.6.4"
  }
 },
 "nbformat": 4,
 "nbformat_minor": 2
}
